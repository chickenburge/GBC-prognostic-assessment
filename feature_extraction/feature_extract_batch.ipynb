{
 "cells": [
  {
   "cell_type": "code",
   "execution_count": 5,
   "id": "lonely-journal",
   "metadata": {},
   "outputs": [
    {
     "name": "stdout",
     "output_type": "stream",
     "text": [
      "['0001', '0004', '0005', '0006', '0007', '0011', '0012', '0014', '0015', '0017', '0018', '0025', '0030', '0031', '0032', '0034', '0035', '0037', '0042', '0046', '0050', '0052', '0054', '0056', '0059', '0060', '0061', '0064', '0065', '0072', '0073', '0075', '0078', '0085', '0086', '0088', '0089', '0090', '0095', '0097', '0103', '0104', '0108', '0121', '0123', '0129', '0132', '0136', '0143', '0144', '0151', '0153', '0154', '0165', '0166', '0168', '0172', '0176', '0178', '0187']\n"
     ]
    }
   ],
   "source": [
    "from radiomics import featureextractor\n",
    "import os\n",
    "import SimpleITK as sitk\n",
    "import pandas as pd\n",
    "basePath = 'file path'\n",
    "folders = os.listdir(basePath)\n",
    "print(folders)"
   ]
  },
  {
   "cell_type": "code",
   "execution_count": null,
   "id": "theoretical-discrimination",
   "metadata": {
    "scrolled": true
   },
   "outputs": [
    {
     "name": "stdout",
     "output_type": "stream",
     "text": [
      "['gallbladder_001_image.nii.gz', 'gallbladder_001_label.nii.gz', 'ym001_label.nii.gz']\n"
     ]
    },
    {
     "name": "stderr",
     "output_type": "stream",
     "text": [
      "GLCM is symmetrical, therefore Sum Average = 2 * Joint Average, only 1 needs to be calculated\n"
     ]
    },
    {
     "name": "stdout",
     "output_type": "stream",
     "text": [
      "['gallbladder_004_image.nii.gz', 'gallbladder_004_label.nii.gz', 'ym004_label.nii.gz']\n"
     ]
    },
    {
     "name": "stderr",
     "output_type": "stream",
     "text": [
      "GLCM is symmetrical, therefore Sum Average = 2 * Joint Average, only 1 needs to be calculated\n"
     ]
    },
    {
     "name": "stdout",
     "output_type": "stream",
     "text": [
      "['gallbladder_005_image.nii.gz', 'gallbladder_005_label.nii.gz', 'ym005_label.nii.gz']\n"
     ]
    },
    {
     "name": "stderr",
     "output_type": "stream",
     "text": [
      "GLCM is symmetrical, therefore Sum Average = 2 * Joint Average, only 1 needs to be calculated\n"
     ]
    },
    {
     "name": "stdout",
     "output_type": "stream",
     "text": [
      "['gallbladder_006_image.nii.gz', 'gallbladder_006_label.nii.gz', 'ym006_label.nii.gz']\n"
     ]
    },
    {
     "name": "stderr",
     "output_type": "stream",
     "text": [
      "GLCM is symmetrical, therefore Sum Average = 2 * Joint Average, only 1 needs to be calculated\n"
     ]
    },
    {
     "name": "stdout",
     "output_type": "stream",
     "text": [
      "['gallbladder_007_image.nii.gz', 'gallbladder_007_label.nii.gz', 'ym007_label.nii.gz']\n"
     ]
    },
    {
     "name": "stderr",
     "output_type": "stream",
     "text": [
      "GLCM is symmetrical, therefore Sum Average = 2 * Joint Average, only 1 needs to be calculated\n"
     ]
    },
    {
     "name": "stdout",
     "output_type": "stream",
     "text": [
      "['gallbladder_011_image.nii.gz', 'gallbladder_011_label.nii.gz', 'ym011_label.nii.gz']\n"
     ]
    },
    {
     "name": "stderr",
     "output_type": "stream",
     "text": [
      "GLCM is symmetrical, therefore Sum Average = 2 * Joint Average, only 1 needs to be calculated\n"
     ]
    },
    {
     "name": "stdout",
     "output_type": "stream",
     "text": [
      "['gallbladder_012_image.nii.gz', 'gallbladder_012_label.nii.gz', 'ym012_label.nii.gz']\n"
     ]
    },
    {
     "name": "stderr",
     "output_type": "stream",
     "text": [
      "GLCM is symmetrical, therefore Sum Average = 2 * Joint Average, only 1 needs to be calculated\n"
     ]
    },
    {
     "name": "stdout",
     "output_type": "stream",
     "text": [
      "['gallbladder_014_image.nii.gz', 'gallbladder_014_label.nii.gz', 'ym014_label.nii.gz']\n"
     ]
    },
    {
     "name": "stderr",
     "output_type": "stream",
     "text": [
      "GLCM is symmetrical, therefore Sum Average = 2 * Joint Average, only 1 needs to be calculated\n"
     ]
    },
    {
     "name": "stdout",
     "output_type": "stream",
     "text": [
      "['gallbladder_015_image.nii.gz', 'gallbladder_015_label.nii.gz', 'ym015_label.nii.gz']\n"
     ]
    }
   ],
   "source": [
    "df = pd.DataFrame()\n",
    "settings = {}\n",
    "settings['binWidth'] = 25\n",
    "settings['resampledPixelSpacing'] = [5,5,5] # unit: mm\n",
    "settings['interpolator'] = sitk.sitkBSpline\n",
    "settings['normalize'] = True\n",
    "# Initialize (instantiate)\n",
    "extractor = featureextractor.RadiomicsFeatureExtractor(**settings)\n",
    "# Filter selection\n",
    "# extractor.enableImageTypes(Original={}, LoG={\"sigma\" : [4.0]}, Wavelet={})\n",
    "extractor.enableImageTypes(Original={})\n",
    "# Set paths to distinguish between image files and mask files\n",
    "for folder in folders:\n",
    "    files = os.listdir(os.path.join(basePath, folder))\n",
    "    print(files)\n",
    "    for file in files:\n",
    "        if file.endswith('image.nii.gz'):\n",
    "            imageFile = os.path.join(basePath, folder, file)\n",
    "        if file.endswith('label.nii.gz'):\n",
    "            maskFile = os.path.join(basePath, folder, file)\n",
    "    ### Perform feature extraction to the featureVector ###\n",
    "    featureVector = extractor.execute(imageFile, maskFile)\n",
    "    df_new = pd.DataFrame.from_dict(featureVector.values()).T\n",
    "    # Set the keys in featureVector as the column names in df_new\n",
    "    df_new.columns = featureVector.keys()\n",
    "    # Merge df and df_new\n",
    "    df = pd.concat([df, df_new])\n",
    "    # The first column will be the patient serial number\n",
    "    df['num'] = range(1, len(df) + 1)\n",
    "df.to_excel(os.path.join(basePath, 'radiomicsFeature.xlsx'))"
   ]
  },
  {
   "cell_type": "code",
   "execution_count": null,
   "id": "worse-pasta",
   "metadata": {
    "collapsed": true
   },
   "outputs": [],
   "source": []
  },
  {
   "cell_type": "code",
   "execution_count": null,
   "id": "wrapped-marks",
   "metadata": {
    "collapsed": true
   },
   "outputs": [],
   "source": []
  }
 ],
 "metadata": {
  "kernelspec": {
   "display_name": "Python [conda env:pyradiomics] *",
   "language": "python",
   "name": "conda-env-pyradiomics-py"
  },
  "language_info": {
   "codemirror_mode": {
    "name": "ipython",
    "version": 3
   },
   "file_extension": ".py",
   "mimetype": "text/x-python",
   "name": "python",
   "nbconvert_exporter": "python",
   "pygments_lexer": "ipython3",
   "version": "3.7.10"
  }
 },
 "nbformat": 4,
 "nbformat_minor": 5
}
