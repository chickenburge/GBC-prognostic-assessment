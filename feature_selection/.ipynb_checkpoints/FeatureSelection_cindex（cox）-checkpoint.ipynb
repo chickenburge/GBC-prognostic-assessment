{
 "cells": [
  {
   "cell_type": "code",
   "execution_count": 1,
   "metadata": {},
   "outputs": [],
   "source": [
    "import pandas as pd\n",
    "import lifelines\n",
    "from lifelines import CoxPHFitter\n",
    "from sklearn.model_selection import train_test_split\n",
    "from lifelines.utils import concordance_index\n",
    "from sklearn import metrics"
   ]
  },
  {
   "cell_type": "code",
   "execution_count": 11,
   "metadata": {},
   "outputs": [],
   "source": [
    "train = 'file path'\n",
    "test = 'file path'\n",
    "train = pd.read_csv(train)\n",
    "test = pd.read_csv(test)\n",
    "raw_dummy = pd.get_dummies(train,drop_first=True)\n",
    "\n",
    "x_names = raw_dummy.columns.tolist()\n",
    "Xy_train =train\n",
    "Xy_test =test"
   ]
  },
  {
   "cell_type": "code",
   "execution_count": 13,
   "metadata": {},
   "outputs": [],
   "source": [
    "cph = CoxPHFitter()#Instantiate a CoxPHFitter object\n",
    "unicox_cindex = []\n",
    "unicox_auc = pd.DataFrame([])"
   ]
  },
  {
   "cell_type": "code",
   "execution_count": 14,
   "metadata": {},
   "outputs": [],
   "source": [
    "for x_name in x_names[:-2]:\n",
    "    tmp = Xy_train[['event', 'time', x_name]]\n",
    "    cph.fit(tmp, duration_col='time', event_col='event')#uni-cox\n",
    "    time_true = Xy_test['time'].values\n",
    "    event_true = Xy_test['event'].values\n",
    "    X_test = Xy_test.drop(columns=['event', 'time'])\n",
    "    hr_pred = cph.predict_partial_hazard(X_test)#predict HR\n",
    "    ci = concordance_index(event_times=time_true, predicted_scores=-hr_pred, event_observed=event_true)\n",
    "    unicox_cindex.append(ci)\n",
    "cidex =pd.DataFrame(unicox_cindex)\n",
    "cidex.to_csv('C:\\\\Users\\\\lenovo\\\\Desktop\\\\cidex.csv')"
   ]
  }
 ],
 "metadata": {
  "kernelspec": {
   "display_name": "Python [conda env:jzcnnunet]",
   "language": "python",
   "name": "conda-env-jzcnnunet-py"
  },
  "language_info": {
   "codemirror_mode": {
    "name": "ipython",
    "version": 3
   },
   "file_extension": ".py",
   "mimetype": "text/x-python",
   "name": "python",
   "nbconvert_exporter": "python",
   "pygments_lexer": "ipython3",
   "version": "3.6.13"
  }
 },
 "nbformat": 4,
 "nbformat_minor": 2
}
