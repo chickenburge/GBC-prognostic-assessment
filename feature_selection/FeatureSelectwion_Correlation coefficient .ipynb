{
 "cells": [
  {
   "cell_type": "code",
   "execution_count": 9,
   "id": "respective-preserve",
   "metadata": {},
   "outputs": [],
   "source": [
    "import numpy as np\n",
    "import pandas as pd\n",
    "dataFile = 'file_path'\n",
    "data = pd.read_csv(dataFile)"
   ]
  },
  {
   "cell_type": "code",
   "execution_count": 10,
   "id": "accepted-constant",
   "metadata": {},
   "outputs": [],
   "source": [
    "person_res = data.corr()   # pearson\n",
    "person_res.to_csv('file_path')"
   ]
  }
 ],
 "metadata": {
  "kernelspec": {
   "display_name": "Python [conda env:pyradiomics] *",
   "language": "python",
   "name": "conda-env-pyradiomics-py"
  },
  "language_info": {
   "codemirror_mode": {
    "name": "ipython",
    "version": 3
   },
   "file_extension": ".py",
   "mimetype": "text/x-python",
   "name": "python",
   "nbconvert_exporter": "python",
   "pygments_lexer": "ipython3",
   "version": "3.7.10"
  }
 },
 "nbformat": 4,
 "nbformat_minor": 5
}
